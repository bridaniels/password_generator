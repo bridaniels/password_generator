{
 "cells": [
  {
   "cell_type": "markdown",
   "id": "39959a9b-37e5-4c2d-bc0c-b061c1b200e0",
   "metadata": {},
   "source": [
    "# Password Generator "
   ]
  },
  {
   "cell_type": "code",
   "execution_count": 1,
   "id": "d9bef209-fc9f-4aeb-80f2-1e89fb0c4ec0",
   "metadata": {},
   "outputs": [],
   "source": [
    "import string\n",
    "import random"
   ]
  },
  {
   "cell_type": "code",
   "execution_count": 2,
   "id": "69f86c98-3af7-4d20-a09e-74b88c303cb8",
   "metadata": {},
   "outputs": [
    {
     "name": "stdin",
     "output_type": "stream",
     "text": [
      "Enter Password Length:  8\n"
     ]
    },
    {
     "name": "stdout",
     "output_type": "stream",
     "text": [
      "5c%GbffE\n"
     ]
    }
   ],
   "source": [
    "class RoughPassword:\n",
    "    characters = list(string.ascii_letters + string.digits + \"!@#$%^&*()\")\n",
    "    length = int(input(\"Enter Password Length: \"))\n",
    "    # no garuntee program will include digits \n",
    "    random.shuffle(characters)\n",
    "    password = []\n",
    "    for i in range(length):\n",
    "        password.append(random.choice(characters))\n",
    "    random.shuffle(password)\n",
    "    print(\"\".join(password))\n",
    "    "
   ]
  },
  {
   "cell_type": "code",
   "execution_count": 3,
   "id": "1895ac4c-9476-427e-9023-15f90920a888",
   "metadata": {},
   "outputs": [
    {
     "name": "stdin",
     "output_type": "stream",
     "text": [
      "Enter Desired Password Length:  10\n",
      "Enter Minimum UpperCase Letters:  2\n",
      "Enter Minimum Digits:  3\n",
      "Enter Minimum Specials:  1\n"
     ]
    },
    {
     "name": "stdout",
     "output_type": "stream",
     "text": [
      "88c4JZgd^k\n"
     ]
    }
   ],
   "source": [
    "class CriteriaPassword:\n",
    "    \n",
    "    Uletters = list(string.ascii_uppercase)\n",
    "    Lletters = list(string.ascii_lowercase)\n",
    "    digits = list(string.digits)\n",
    "    special_char = list(\"!@#$%^&*()\")\n",
    "    \n",
    "    length = int(input(\"Enter Desired Password Length: \")) \n",
    "    min_uppercase = int(input(\"Enter Minimum UpperCase Letters: \"))\n",
    "    min_digits = int(input(\"Enter Minimum Digits: \"))\n",
    "    min_specials = int(input(\"Enter Minimum Specials: \"))\n",
    "        \n",
    "        \n",
    "    password = []\n",
    "    for i in range(min_uppercase):\n",
    "        password.append(random.choice(Uletters))\n",
    "        \n",
    "    for i in range(min_digits):\n",
    "        password.append(random.choice(digits))\n",
    "        \n",
    "    for i in range(min_specials):\n",
    "        password.append(random.choice(special_char))\n",
    "        \n",
    "    if len(password) <= length:\n",
    "        for i in range(length - len(password)):\n",
    "            password.append(random.choice(Lletters))\n",
    "            \n",
    "        random.shuffle(password)\n",
    "        \n",
    "        print(''.join(password))\n",
    "    "
   ]
  },
  {
   "cell_type": "code",
   "execution_count": null,
   "id": "3b757352-174d-4985-9499-405cb64dce1d",
   "metadata": {},
   "outputs": [],
   "source": []
  }
 ],
 "metadata": {
  "kernelspec": {
   "display_name": "Python 3",
   "language": "python",
   "name": "python3"
  },
  "language_info": {
   "codemirror_mode": {
    "name": "ipython",
    "version": 3
   },
   "file_extension": ".py",
   "mimetype": "text/x-python",
   "name": "python",
   "nbconvert_exporter": "python",
   "pygments_lexer": "ipython3",
   "version": "3.8.8"
  }
 },
 "nbformat": 4,
 "nbformat_minor": 5
}
